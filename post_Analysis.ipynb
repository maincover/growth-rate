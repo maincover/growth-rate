{
 "cells": [
  {
   "cell_type": "markdown",
   "metadata": {},
   "source": [
    "For the reformatting of the mutant data:\n",
    "\n",
    "1 - Averages / standard deviation of growth rates of final OD600 / lag phase / GFP production etc. of technical replicates per experiments.\n",
    "\n",
    "There are always 2 plates per experiment with the exact same content.\n",
    "\n",
    "FOR DATA SET MUT1 - MUT3\n",
    "Plate 1&2 = MUT.0001\n",
    "\n",
    "Plate 3&4 = MUT.0002\n",
    "\n",
    "Plate 5&6 = MUT.0003\n",
    "\n",
    "Plate 7&8 = TS008\n",
    "\n",
    "Plate 9&10 = TS071\n",
    "\n",
    "\n",
    "Plate 11&12 = Blank medium, no cells\n",
    "\n",
    "\n",
    "FOR DATA SET MUT5-MUT7\n",
    "\n",
    "Plate 1&2 = MUT.0005\n",
    "\n",
    "Plate 3&4 = MUT.0006\n",
    "\n",
    "Plate 5&6 = MUT.0007\n",
    "\n",
    "Plate 7&8 = TS008 (control strain 1)\n",
    "\n",
    "Plate 9&10 = TS071 (control strain 2)\n",
    "\n",
    "Plate 11&12 = Blank medium, no cells\n",
    "\n",
    "\n",
    "2 - Averages / standard deviation of growth rates of final OD600 / lag phase / GFP production etc. of the three independent biological replicates executed at three different dates.\n",
    "\n",
    "3 - In the end, I would like to have a matrix per strain with all averages and stand dev's of all the parameters you calculated. Then I can nicely plot the data for each mutant and make a comparison. I will already check the individual data sets today / tomorrow. "
   ]
  },
  {
   "cell_type": "code",
   "execution_count": 5,
   "metadata": {},
   "outputs": [],
   "source": [
    "import os\n",
    "\n",
    "def getSubFolders(folderPath):\n",
    "    subFolders = []\n",
    "    for root, dirs, files in os.walk(folderPath):\n",
    "        for fn in files:            \n",
    "            if fn.endswith('.csv') and 'stats' in fn:\n",
    "                pth = os.path.join(root, fn)\n",
    "                if root in subFolders:\n",
    "                    continue\n",
    "                subFolders.append(pth)\n",
    "    return subFolders"
   ]
  },
  {
   "cell_type": "code",
   "execution_count": 39,
   "metadata": {},
   "outputs": [
    {
     "data": {
      "text/plain": [
       "['Plate3_stats.csv',\n",
       " 'Plate1_stats.csv',\n",
       " 'Plate7_stats.csv',\n",
       " 'Plate8_stats.csv',\n",
       " 'Plate10_stats.csv',\n",
       " 'Plate6_stats.csv',\n",
       " 'Plate4_stats.csv',\n",
       " 'Plate2_stats.csv',\n",
       " 'Plate5_stats.csv',\n",
       " 'Plate9_stats.csv']"
      ]
     },
     "execution_count": 39,
     "metadata": {},
     "output_type": "execute_result"
    }
   ],
   "source": [
    "g.keys()"
   ]
  },
  {
   "cell_type": "code",
   "execution_count": 38,
   "metadata": {},
   "outputs": [
    {
     "name": "stdout",
     "output_type": "stream",
     "text": [
      "/home/xsong/Desktop/Ana-promoter-derivetive/Nadine/dataset/Mutant Data - Song/Mutant 5-7 + controls TS008 TS071/15 Feb 2018/Plate7/Plate7_stats.csv\n",
      "/home/xsong/Desktop/Ana-promoter-derivetive/Nadine/dataset/Mutant Data - Song/Mutant 5-7 + controls TS008 TS071/15 Feb 2018/Plate4/Plate4_stats.csv\n",
      "/home/xsong/Desktop/Ana-promoter-derivetive/Nadine/dataset/Mutant Data - Song/Mutant 5-7 + controls TS008 TS071/15 Feb 2018/Plate5/Plate5_stats.csv\n",
      "/home/xsong/Desktop/Ana-promoter-derivetive/Nadine/dataset/Mutant Data - Song/Mutant 5-7 + controls TS008 TS071/15 Feb 2018/Plate10/Plate10_stats.csv\n",
      "/home/xsong/Desktop/Ana-promoter-derivetive/Nadine/dataset/Mutant Data - Song/Mutant 5-7 + controls TS008 TS071/15 Feb 2018/Plate1/Plate1_stats.csv\n",
      "/home/xsong/Desktop/Ana-promoter-derivetive/Nadine/dataset/Mutant Data - Song/Mutant 5-7 + controls TS008 TS071/15 Feb 2018/Plate2/Plate2_stats.csv\n",
      "/home/xsong/Desktop/Ana-promoter-derivetive/Nadine/dataset/Mutant Data - Song/Mutant 5-7 + controls TS008 TS071/15 Feb 2018/Plate3/Plate3_stats.csv\n",
      "/home/xsong/Desktop/Ana-promoter-derivetive/Nadine/dataset/Mutant Data - Song/Mutant 5-7 + controls TS008 TS071/15 Feb 2018/Plate6/Plate6_stats.csv\n",
      "/home/xsong/Desktop/Ana-promoter-derivetive/Nadine/dataset/Mutant Data - Song/Mutant 5-7 + controls TS008 TS071/15 Feb 2018/Plate8/Plate8_stats.csv\n",
      "/home/xsong/Desktop/Ana-promoter-derivetive/Nadine/dataset/Mutant Data - Song/Mutant 5-7 + controls TS008 TS071/15 Feb 2018/Plate9/Plate9_stats.csv\n",
      "/home/xsong/Desktop/Ana-promoter-derivetive/Nadine/dataset/Mutant Data - Song/Mutant 5-7 + controls TS008 TS071/8 Feb 2018/Plate7/Plate7_stats.csv\n",
      "/home/xsong/Desktop/Ana-promoter-derivetive/Nadine/dataset/Mutant Data - Song/Mutant 5-7 + controls TS008 TS071/8 Feb 2018/Plate4/Plate4_stats.csv\n",
      "/home/xsong/Desktop/Ana-promoter-derivetive/Nadine/dataset/Mutant Data - Song/Mutant 5-7 + controls TS008 TS071/8 Feb 2018/Plate5/Plate5_stats.csv\n",
      "/home/xsong/Desktop/Ana-promoter-derivetive/Nadine/dataset/Mutant Data - Song/Mutant 5-7 + controls TS008 TS071/8 Feb 2018/Plate10/Plate10_stats.csv\n",
      "/home/xsong/Desktop/Ana-promoter-derivetive/Nadine/dataset/Mutant Data - Song/Mutant 5-7 + controls TS008 TS071/8 Feb 2018/Plate1/Plate1_stats.csv\n",
      "/home/xsong/Desktop/Ana-promoter-derivetive/Nadine/dataset/Mutant Data - Song/Mutant 5-7 + controls TS008 TS071/8 Feb 2018/Plate2/Plate2_stats.csv\n",
      "/home/xsong/Desktop/Ana-promoter-derivetive/Nadine/dataset/Mutant Data - Song/Mutant 5-7 + controls TS008 TS071/8 Feb 2018/Plate3/Plate3_stats.csv\n",
      "/home/xsong/Desktop/Ana-promoter-derivetive/Nadine/dataset/Mutant Data - Song/Mutant 5-7 + controls TS008 TS071/8 Feb 2018/Plate6/Plate6_stats.csv\n",
      "/home/xsong/Desktop/Ana-promoter-derivetive/Nadine/dataset/Mutant Data - Song/Mutant 5-7 + controls TS008 TS071/8 Feb 2018/Plate8/Plate8_stats.csv\n",
      "/home/xsong/Desktop/Ana-promoter-derivetive/Nadine/dataset/Mutant Data - Song/Mutant 5-7 + controls TS008 TS071/8 Feb 2018/Plate9/Plate9_stats.csv\n",
      "/home/xsong/Desktop/Ana-promoter-derivetive/Nadine/dataset/Mutant Data - Song/Mutant 5-7 + controls TS008 TS071/2 Feb 2018/Plate7/Plate7_stats.csv\n",
      "/home/xsong/Desktop/Ana-promoter-derivetive/Nadine/dataset/Mutant Data - Song/Mutant 5-7 + controls TS008 TS071/2 Feb 2018/Plate4/Plate4_stats.csv\n",
      "/home/xsong/Desktop/Ana-promoter-derivetive/Nadine/dataset/Mutant Data - Song/Mutant 5-7 + controls TS008 TS071/2 Feb 2018/Plate5/Plate5_stats.csv\n",
      "/home/xsong/Desktop/Ana-promoter-derivetive/Nadine/dataset/Mutant Data - Song/Mutant 5-7 + controls TS008 TS071/2 Feb 2018/Plate10/Plate10_stats.csv\n",
      "/home/xsong/Desktop/Ana-promoter-derivetive/Nadine/dataset/Mutant Data - Song/Mutant 5-7 + controls TS008 TS071/2 Feb 2018/Plate1/Plate1_stats.csv\n",
      "/home/xsong/Desktop/Ana-promoter-derivetive/Nadine/dataset/Mutant Data - Song/Mutant 5-7 + controls TS008 TS071/2 Feb 2018/Plate2/Plate2_stats.csv\n",
      "/home/xsong/Desktop/Ana-promoter-derivetive/Nadine/dataset/Mutant Data - Song/Mutant 5-7 + controls TS008 TS071/2 Feb 2018/Plate3/Plate3_stats.csv\n",
      "/home/xsong/Desktop/Ana-promoter-derivetive/Nadine/dataset/Mutant Data - Song/Mutant 5-7 + controls TS008 TS071/2 Feb 2018/Plate6/Plate6_stats.csv\n",
      "/home/xsong/Desktop/Ana-promoter-derivetive/Nadine/dataset/Mutant Data - Song/Mutant 5-7 + controls TS008 TS071/2 Feb 2018/Plate8/Plate8_stats.csv\n",
      "/home/xsong/Desktop/Ana-promoter-derivetive/Nadine/dataset/Mutant Data - Song/Mutant 5-7 + controls TS008 TS071/2 Feb 2018/Plate9/Plate9_stats.csv\n"
     ]
    }
   ],
   "source": [
    "folder_input = '/home/xsong/Desktop/Ana-promoter-derivetive/Nadine/dataset/Mutant Data - Song/Mutant 5-7 + controls TS008 TS071'\n",
    "lf = getSubFolders(folder_input)\n",
    "folder_list = []\n",
    "plateRule=[]\n",
    "filter_out = ['Plate11','Plate12']\n",
    "import os\n",
    "g = dict()\n",
    "for subFolder in lf:\n",
    "    print subFolder\n",
    "    plate_name = os.path.split(subFolder)[1]\n",
    "    if plate_name not in g.keys():\n",
    "        g[plate_name] = []\n",
    "    g[plate_name].append(subFolder)\n",
    "    #folders = runPreprocessing(subFolder)\n",
    "    #l_n = []\n",
    "    #for f_n in folders:        \n",
    "    #    if os.path.split(f_n)[1] in filter_out:            \n",
    "    #        continue\n",
    "    #    l_n.append(f_n)\n",
    "    #folder_list.extend(l_n)    \n",
    "#folder_list"
   ]
  },
  {
   "cell_type": "code",
   "execution_count": 44,
   "metadata": {},
   "outputs": [
    {
     "name": "stdout",
     "output_type": "stream",
     "text": [
      "8\n",
      "7 8\n",
      "10\n",
      "9 10\n",
      "6\n",
      "5 6\n",
      "4\n",
      "3 4\n",
      "2\n",
      "1 2\n"
     ]
    }
   ],
   "source": [
    "for k in g.keys():\n",
    "    start =  k.index(\"Plate\")    \n",
    "    end =  k.index(\"_stats\")\n",
    "    i =  int(k[start+5:end])        \n",
    "    if i%2 == 0:\n",
    "        print i\n",
    "        j = i - 1        \n",
    "        for m in g.keys():\n",
    "            start =  m.index(\"Plate\")    \n",
    "            end =  m.index(\"_stats\")\n",
    "            i_m =  int(m[start+5:end])\n",
    "            if i_m == j:\n",
    "                print i_m, i"
   ]
  }
 ],
 "metadata": {
  "kernelspec": {
   "display_name": "Python 2",
   "language": "python",
   "name": "python2"
  },
  "language_info": {
   "codemirror_mode": {
    "name": "ipython",
    "version": 2
   },
   "file_extension": ".py",
   "mimetype": "text/x-python",
   "name": "python",
   "nbconvert_exporter": "python",
   "pygments_lexer": "ipython2",
   "version": "2.7.15"
  }
 },
 "nbformat": 4,
 "nbformat_minor": 2
}
